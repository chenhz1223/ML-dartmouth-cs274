{
 "cells": [
  {
   "cell_type": "markdown",
   "metadata": {},
   "source": [
    "# HW1  Try out gradient descent"
   ]
  },
  {
   "cell_type": "markdown",
   "metadata": {},
   "source": [
    "## Due Wed Oct 6th, 2021 at 11:59PM"
   ]
  },
  {
   "cell_type": "markdown",
   "metadata": {},
   "source": [
    "You should submit this jupyter notebook with your solutions. The solutions should include the code and also the output of all the cells.\n",
    "\n",
    "Note that for the problmes that require a cost function as input you should always use the most recent cost function that you have implemented (unless specified otherwise)."
   ]
  },
  {
   "cell_type": "markdown",
   "metadata": {},
   "source": [
    "1) [5 points] Calculate the derivative of following cost function and write it down:\n",
    "\n",
    "$g(w) = \\frac{1}{50}\\left(w^4 + w^2 + 10w - 50 \\right)$"
   ]
  },
  {
   "cell_type": "markdown",
   "metadata": {},
   "source": [
    "$\\frac{\\partial}{\\partial w}g(w) = \\frac{1}{50}(4w^3+2w+10) $"
   ]
  },
  {
   "cell_type": "markdown",
   "metadata": {},
   "source": [
    "2) [25 points] Implement the gradient descent function as discussed in class using the gradient derived in the last problem. The function should return the cost history for each step. Use the code template below:\n"
   ]
  },
  {
   "cell_type": "code",
   "execution_count": 48,
   "metadata": {},
   "outputs": [],
   "source": [
    "#gradient descent function\n",
    "#inputs: alpha (learning rate parameter), max_its (maximum number of iterations), w0 (initialization)\n",
    "def gradient_descent(alpha,max_its,w0):\n",
    "    gw = 1/50*(w0**4+w0**2+10*w0-50)\n",
    "    dw = 1/50*(4*w0**3+2*w0+10)\n",
    "    cost_history = [gw]\n",
    "    for i in range(max_its):\n",
    "        w0 = w0 - alpha*dw\n",
    "        gw = 1/50*(w0**4+w0**2+10*w0-50)\n",
    "        dw = 1/50*(4*w0**3+2*w0+10)\n",
    "        cost_history.append(gw)\n",
    "    ##Your code here\n",
    "    return cost_history"
   ]
  },
  {
   "cell_type": "markdown",
   "metadata": {},
   "source": [
    "3) [10 points] Run the gradient_descent function you implemented three times, with the following parameters. Generate a single plot showing the cost as a function of step number for all three runs (combine all three runs into a single plot). If you are not familiar with plotting in python, here is the docs for matplotlib:(https://matplotlib.org/3.2.1/api/_as_gen/matplotlib.pyplot.plot.html#matplotlib.pyplot.plot). \n",
    "\n",
    "\n",
    "$w^0$ = 2.0\n",
    "max_its = 1000\n",
    "\n",
    "# first run\n",
    "alpha = 1\n",
    "# second run\n",
    "alpha = 0.1\n",
    "# third run\n",
    "alpha = 0.01\n"
   ]
  },
  {
   "cell_type": "code",
   "execution_count": 49,
   "metadata": {},
   "outputs": [
    {
     "data": {
      "text/plain": [
       "[<matplotlib.lines.Line2D at 0x1462dd0a0>,\n",
       " <matplotlib.lines.Line2D at 0x1462e9100>,\n",
       " <matplotlib.lines.Line2D at 0x1462e9220>]"
      ]
     },
     "execution_count": 49,
     "metadata": {},
     "output_type": "execute_result"
    },
    {
     "data": {
      "image/png": "[encoded data removed]",
      "text/plain": [
       "<Figure size 432x288 with 1 Axes>"
      ]
     },
     "metadata": {
      "needs_background": "light"
     },
     "output_type": "display_data"
    }
   ],
   "source": [
    "import matplotlib.pyplot as plt\n",
    "%matplotlib inline \n",
    "# To keep your plots embedded\n",
    "\n",
    "first_run = gradient_descent(alpha = 1, max_its = 1000, w0 = 2.0 )\n",
    "second_run = gradient_descent(alpha = 0.1, max_its = 1000, w0 = 2.0 )\n",
    "third_run = gradient_descent(alpha = 0.01, max_its = 1000, w0 = 2.0 )\n",
    "plt.plot(first_run,'g-',second_run,\"b-\",third_run,\"r-\")# red for alpha0.01, blue for 0.1, and green for 1\n",
    "\n",
    "##Your code here"
   ]
  },
  {
   "cell_type": "markdown",
   "metadata": {},
   "source": [
    "For the next few problems we will be comparing fixed and diminishing learning rates"
   ]
  },
  {
   "cell_type": "markdown",
   "metadata": {},
   "source": [
    "Take the following cost function:\n",
    "\\begin{equation}\n",
    "g(w) = \\left \\vert w \\right \\vert\n",
    "\\end{equation}"
   ]
  },
  {
   "cell_type": "markdown",
   "metadata": {},
   "source": [
    "4) [5 points] Is this function convex? If no, why not? If yes, where is its global minimum?"
   ]
  },
  {
   "cell_type": "markdown",
   "metadata": {},
   "source": [
    " Yes, this function is convex. The global minimum is 0."
   ]
  },
  {
   "cell_type": "markdown",
   "metadata": {},
   "source": [
    "5) [5 points] What is the derivative of the cost function? "
   ]
  },
  {
   "cell_type": "markdown",
   "metadata": {},
   "source": [
    "This cost function is not differentiable at the point of zero, so the derivative of the cose function would be following:\n",
    "$$\\frac{\\partial}{\\partial w}g(w) = \\begin{cases}\n",
    "1 & w>0 \\\\\n",
    "-1 & w<0 \\\\\n",
    "\\end{cases}\n",
    "$$"
   ]
  },
  {
   "cell_type": "markdown",
   "metadata": {},
   "source": [
    "6) [20 points] Rewrite the gradient descent function from question 2 such that it takes the cost funciton g as input and uses the autograd library to calculate the gradient. The function should return the weight and cost history for each step. Use the code template below.\n",
    "\n",
    "autograd is a python package for automatic calculation of the gradient. Here is a tutorial on it: (http://www.cs.toronto.edu/~rgrosse/courses/csc321_2017/tutorials/tut4.pdf\n",
    "\n",
    "Note that in Python you can pass functions around like any other variables. That is why you can pass the cost function g to the gradient_descent function. \n",
    "\n",
    "You should be able to install it by running \"pip install autograd\" in a cell in your Jupyter notebook."
   ]
  },
  {
   "cell_type": "code",
   "execution_count": 61,
   "metadata": {},
   "outputs": [],
   "source": [
    "from autograd import grad \n",
    "\n",
    "#gradient descent function\n",
    "#inputs: g (cost function), alpha (learning rate parameter), max_its (maximum number of iterations), w (initialization)\n",
    "def gradient_descent(g,alpha,max_its,w0):\n",
    "    gradient = grad(g)   ## This is how you use the autograd library to find the gradient of a function  \n",
    "    ##Your code here\n",
    "    weight_history = [w0]\n",
    "    cost_history = [g(w0)]\n",
    "    for i in range(max_its):\n",
    "        w0 -= alpha*gradient(w0)\n",
    "        cost_history.append(g(w0))\n",
    "        weight_history.append(w0)\n",
    "    return weight_history,cost_history"
   ]
  },
  {
   "cell_type": "markdown",
   "metadata": {},
   "source": [
    "7) [10 points] Make a run of max_its=20 steps of gradient descent with initialization at the point $w^0 = 1.75$, and a fixed learning rate of $\\alpha = 0.5$. Using the cost and weight history, plot the cost as a function of the weight for each step (cost on y-axis, weight on x-axis). Recall that the terms weight and parameter used interchangeably and both refer to w."
   ]
  },
  {
   "cell_type": "code",
   "execution_count": 63,
   "metadata": {},
   "outputs": [
    {
     "data": {
      "text/plain": [
       "[<matplotlib.lines.Line2D at 0x1468110d0>]"
      ]
     },
     "execution_count": 63,
     "metadata": {},
     "output_type": "execute_result"
    },
    {
     "data": {
      "image/png": "[encoded data removed]",
      "text/plain": [
       "<Figure size 432x288 with 1 Axes>"
      ]
     },
     "metadata": {
      "needs_background": "light"
     },
     "output_type": "display_data"
    }
   ],
   "source": [
    "import matplotlib.pyplot as plt\n",
    "%matplotlib inline \n",
    "def g(x):\n",
    "    return abs(x)\n",
    "result07 = gradient_descent(g, alpha = 0.5,max_its=20, w0=1.75)\n",
    "plt.plot(result07[0],result07[1])"
   ]
  },
  {
   "cell_type": "markdown",
   "metadata": {},
   "source": [
    "8) [15 points] Make a run of max_its=20 steps of gradient descent with initialization at the point $w^0 = 1.75$, using the diminishing rule $\\alpha = \\frac{1}{k}$ (for this you have to modify the gradient_descent function slightly. Use the code template below. Using the cost and wiehgt history, plot the cost as a function of the weight for each step (cost on y-axis, weight on x-axis)"
   ]
  },
  {
   "cell_type": "code",
   "execution_count": 52,
   "metadata": {},
   "outputs": [
    {
     "data": {
      "text/plain": [
       "[<matplotlib.lines.Line2D at 0x1464cf4f0>]"
      ]
     },
     "execution_count": 52,
     "metadata": {},
     "output_type": "execute_result"
    },
    {
     "data": {
      "image/png": "[encoded data removed]",
      "text/plain": [
       "<Figure size 432x288 with 1 Axes>"
      ]
     },
     "metadata": {
      "needs_background": "light"
     },
     "output_type": "display_data"
    }
   ],
   "source": [
    "#from autograd import grad \n",
    "\n",
    "#gradient descent function\n",
    "#inputs: g (cost function), alpha (learning rate parameter), max_its (maximum number of iterations), w (initialization)\n",
    "def gradient_descent(g,alpha,max_its,w0):\n",
    "    gradient = grad(g)   ## This is how you use the autograd library to find the gradient of a function \n",
    "    ##Your code here\n",
    "    weight_history = [w0]\n",
    "    cost_history = [g(w0)]\n",
    "    for k in range(max_its):\n",
    "        if k > 1:\n",
    "            alpha = 1/k\n",
    "        w0 -= alpha*gradient(w0)\n",
    "        cost_history.append(g(w0))\n",
    "        weight_history.append(w0)\n",
    "    return weight_history,cost_history\n",
    "result08 = gradient_descent(g, alpha = 0.5,max_its=20, w0=1.75)\n",
    "plt.plot(result08[0],result08[1])"
   ]
  },
  {
   "cell_type": "markdown",
   "metadata": {},
   "source": [
    "9) [10 points]  Generate a single plot showing the cost as a function of step number for both runs (combine all  runs into a single plot). Which approach works better? Why ?"
   ]
  },
  {
   "cell_type": "code",
   "execution_count": 53,
   "metadata": {},
   "outputs": [
    {
     "data": {
      "text/plain": [
       "[<matplotlib.lines.Line2D at 0x146532be0>,\n",
       " <matplotlib.lines.Line2D at 0x146532d00>]"
      ]
     },
     "execution_count": 53,
     "metadata": {},
     "output_type": "execute_result"
    },
    {
     "data": {
      "image/png": "[encoded data removed]",
      "text/plain": [
       "<Figure size 432x288 with 1 Axes>"
      ]
     },
     "metadata": {
      "needs_background": "light"
     },
     "output_type": "display_data"
    }
   ],
   "source": [
    "plt.plot(result07[1],'b-',result08[1],\"g-\")#blue for the first one"
   ]
  },
  {
   "cell_type": "markdown",
   "metadata": {},
   "source": [
    "The diminishing alpha approach works better, because it ultimately descend to the value that near to the minimun of the cost function, while the first approach didn't."
   ]
  },
  {
   "cell_type": "markdown",
   "metadata": {},
   "source": [
    "We will now look at the oscilating behavior of gradient descent. \n",
    "\n",
    "Take the following cost function:\n",
    "$g(w) = w_0^2 + w_1^2 + 2\\sin(1.5 (w_0 + w_1)) +2$\n",
    "\n",
    "Note that this cost function has two parameters."
   ]
  },
  {
   "cell_type": "code",
   "execution_count": 1,
   "metadata": {},
   "outputs": [],
   "source": [
    "import autograd.numpy as np\n",
    "def g(w):\n",
    "    w0 = w[0]\n",
    "    w1 = w[1]\n",
    "    result = w0**2 + w1**2+ 2*np.sin(1.5*(w0+w1))+2\n",
    "    return result\n",
    "    "
   ]
  },
  {
   "cell_type": "markdown",
   "metadata": {},
   "source": [
    "10) [5 points] Make sure your gradient descent function from problem 6 can handle cost functions with more than one parameter. You may need to rewrite it if you were not careful. Use the code template below (if your function from problem 6 is good, you can just copy and paste it here)"
   ]
  },
  {
   "cell_type": "code",
   "execution_count": 2,
   "metadata": {},
   "outputs": [],
   "source": [
    "from autograd import grad \n",
    "\n",
    "\n",
    "#gradient descent function\n",
    "#inputs: g (cost function), alpha (learning rate parameter), max_its (maximum number of iterations), w (initialization)\n",
    "def gradient_descent(g,alpha,max_its,w0):\n",
    "    gradient = grad(g)   ## This is how you use the autograd library to find the gradient of a function  \n",
    "    ##Your code here\n",
    "    weight_history = [w0]\n",
    "    cost_history = [g(w0)]\n",
    "    for i in range(max_its):\n",
    "        for j in range(0,len(w0)):\n",
    "            w0[j] -=  alpha * gradient(w0)[j]\n",
    "        cost_history.append(g(w0))\n",
    "        weight_history.append(w0)\n",
    "    return weight_history,cost_history"
   ]
  },
  {
   "cell_type": "markdown",
   "metadata": {},
   "source": [
    "11) [10 points] Run the gradient_descent function with the cost function above three times with the following parameters. Generate a single plot showing the cost as a function of step number for all three runs (combine all three runs into a single plot). Use the code template below. Which alpha leads to an oscillating behavior?\n",
    "\n",
    "$w^0$ = [3.0,3.0]\n",
    "max_its = 10\n",
    "\n",
    "# first run\n",
    "alpha = 0.01\n",
    "# second run\n",
    "alpha = 0.1\n",
    "# third run\n",
    "alpha = 1\n",
    "\n"
   ]
  },
  {
   "cell_type": "code",
   "execution_count": 3,
   "metadata": {},
   "outputs": [
    {
     "data": {
      "text/plain": [
       "[array(3.26660921), array(3.26660921)]"
      ]
     },
     "execution_count": 3,
     "metadata": {},
     "output_type": "execute_result"
    }
   ],
   "source": [
    "import autograd.numpy as np\n",
    "import matplotlib.pyplot as plt\n",
    "%matplotlib inline \n",
    "\n",
    "w = [3.0,3.0]\n",
    "gd = grad(g)\n",
    "gd(w)\n",
    "#q11first = gradient_descent(g,alpha = 0.01 ,max_its = 10,w0 = w)\n",
    "#q11second = gradient_descent(g,alpha = 0.1 ,max_its = 10,w0 = w)\n",
    "#q11third = gradient_descent(g,alpha = 1 ,max_its = 10,w0 = w)\n",
    "#plt.plot(q11first[1],'b-',q11second[1],\"r-\",q11third[1],\"g-\")#green(third one lead to oscillating behavior)\n",
    "#Your code here"
   ]
  },
  {
   "cell_type": "markdown",
   "metadata": {},
   "source": [
    "The third alpha($\\alpha = 1$) leads to oscillating behavor."
   ]
  },
  {
   "cell_type": "markdown",
   "metadata": {},
   "source": [
    "### 12) [15 points] This problem is about learning to tune fixed step length for gradient descent. Here, you are given a cost function:\n",
    "$g(w) = 2w_0^2 + w_1^2 +4w_2^2$ \n",
    "\n",
    "Assume your $w^0$= [5,5,5] and your max_iter = 100\n",
    "\n",
    "Use your latest gradient descent function with a fixed learning rate. Play around with at least 5 different values of alpha (using your intuition). Generate a single plot of the cost as a function of the number of iterations. Which value of alpha seems to converge the fastest?\n",
    "\n",
    "Not that your grade will not depend on how well you do, as long as you try at least 5 different values for alpha and plot them."
   ]
  },
  {
   "cell_type": "code",
   "execution_count": 58,
   "metadata": {},
   "outputs": [],
   "source": [
    "def g(w):\n",
    "    #w0 = w[0]\n",
    "    #w1 = w[1]\n",
    "    #w2 = w[2]\n",
    "    square = np.square(w)\n",
    "    result = 2 * square[0] + square[1] + 4 * square[2]\n",
    "    return result "
   ]
  },
  {
   "cell_type": "code",
   "execution_count": 59,
   "metadata": {},
   "outputs": [
    {
     "data": {
      "text/plain": [
       "[<matplotlib.lines.Line2D at 0x1466c22b0>,\n",
       " <matplotlib.lines.Line2D at 0x1466c2400>,\n",
       " <matplotlib.lines.Line2D at 0x1466c23d0>,\n",
       " <matplotlib.lines.Line2D at 0x1466c2610>,\n",
       " <matplotlib.lines.Line2D at 0x1466c2730>]"
      ]
     },
     "execution_count": 59,
     "metadata": {},
     "output_type": "execute_result"
    },
    {
     "data": {
      "image/png": "[encoded data removed]",
      "text/plain": [
       "<Figure size 432x288 with 1 Axes>"
      ]
     },
     "metadata": {
      "needs_background": "light"
     },
     "output_type": "display_data"
    }
   ],
   "source": [
    "%matplotlib inline \n",
    "w =[5.0,5.0,5.0]\n",
    "\n",
    "q12first = gradient_descent(g,alpha = 0.01 ,max_its = 100,w0 = w)\n",
    "q12second = gradient_descent(g,alpha = 0.1 ,max_its = 100,w0 = w)\n",
    "q12third = gradient_descent(g,alpha = 0.15 ,max_its = 100,w0 = w)\n",
    "q12forth = gradient_descent(g,alpha = 0.20 ,max_its = 100,w0 = w)\n",
    "q12fifth = gradient_descent(g,alpha = 0.9 ,max_its = 100,w0 = w)\n",
    "plt.plot(q12first[1],'b:',q12second[1],'r-',q12third[1],'y-',q12forth[1],'g-',q12fifth[1],'k-')\n",
    "#Since the larger learing rate converge so fast, it almost like a straight line and covers all other lines of the plot\n"
   ]
  },
  {
   "cell_type": "code",
   "execution_count": 60,
   "metadata": {},
   "outputs": [
    {
     "data": {
      "text/plain": [
       "[<matplotlib.lines.Line2D at 0x1467297f0>]"
      ]
     },
     "execution_count": 60,
     "metadata": {},
     "output_type": "execute_result"
    },
    {
     "data": {
      "image/png": "[encoded data removed]",
      "text/plain": [
       "<Figure size 432x288 with 1 Axes>"
      ]
     },
     "metadata": {
      "needs_background": "light"
     },
     "output_type": "display_data"
    }
   ],
   "source": [
    "plt.plot(q12fifth[1],'k-')"
   ]
  },
  {
   "cell_type": "markdown",
   "metadata": {},
   "source": [
    "From result above, the 0.9 of alpha seems have the fastest speed to converge."
   ]
  }
 ],
 "metadata": {
  "kernelspec": {
   "display_name": "Python 3 (ipykernel)",
   "language": "python",
   "name": "python3"
  },
  "language_info": {
   "codemirror_mode": {
    "name": "ipython",
    "version": 3
   },
   "file_extension": ".py",
   "mimetype": "text/x-python",
   "name": "python",
   "nbconvert_exporter": "python",
   "pygments_lexer": "ipython3",
   "version": "3.9.7"
  }
 },
 "nbformat": 4,
 "nbformat_minor": 2
}
