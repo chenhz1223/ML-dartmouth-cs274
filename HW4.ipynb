{
 "cells": [
  {
   "cell_type": "markdown",
   "id": "296a356c",
   "metadata": {},
   "source": [
    "You are given a training dataset in CSV format (hw4_cluster.csv). The files each contain 40 rows with 2 columns. Column 1 & 2 are the features. There are no labels for this dataset. Your goal for this assignment is to implement different clustering algorithms and run them on this dataset. For this assignment you can assume the distance function is the Euclidean distance.\n"
   ]
  },
  {
   "cell_type": "markdown",
   "id": "ded9bbaf",
   "metadata": {},
   "source": [
    "\n",
    "1) (35 points) Implement a generalized K-means/median algorithm. You should have a single function that takes in as input the data points, K, and some other hyperparameters, specified below. The function should return K sets of data points. Each set corresponding to one cluster.\n",
    "\n",
    "The hyperparameters your functions should support and the values they can take are:\n",
    "\n",
    "-The method for calculating the centroid: Means or Median\n",
    "\n",
    "-The initialization method: Random Split Initialization or Random Seed Selection Method \n",
    "\n",
    "-Max_iter: max number of iterations to run the algorithm.\n",
    "\n",
    "-K: number of clusters\n",
    "\n",
    "Note that your stopping condition should have two parts: \n",
    "\n",
    "1) stop if you reach the max iterations\n",
    "\n",
    "2) stop if no change is made to the clusters in the last step.\n",
    "\n",
    "You will be running this code in question 3 of the assignment. For this part you just need to implement the function.\n"
   ]
  },
  {
   "cell_type": "code",
   "execution_count": 3,
   "id": "434744ff",
   "metadata": {},
   "outputs": [
    {
     "data": {
      "image/png": "[encoded data removed]",
      "text/plain": [
       "<Figure size 432x288 with 1 Axes>"
      ]
     },
     "metadata": {
      "needs_background": "light"
     },
     "output_type": "display_data"
    }
   ],
   "source": [
    "import numpy as np\n",
    "import pandas as pd\n",
    "import matplotlib.pyplot as plt\n",
    "%matplotlib inline\n",
    "\n",
    "csvname = 'hw4_cluster.csv'\n",
    "data = pd.read_csv(csvname)\n",
    "#x = np.array(data[[\"x1\"]]).T\n",
    "#y = np.array(data[[\"x2\"]]).T\n",
    "plt.plot(data[[\"x1\"]], data[[\"x2\"]],\".\")\n",
    "plt.show()\n",
    "\n",
    "def euclideanDistance(pt1,pt2): \n",
    "    distance = np.sum(np.square(pt1 - pt2))\n",
    "    return np.sqrt(distance)"
   ]
  },
  {
   "cell_type": "code",
   "execution_count": 14,
   "id": "4864202b",
   "metadata": {},
   "outputs": [],
   "source": [
    "def assign(x, centers):\n",
    "    k_labels = []\n",
    "    #centers = np.array(x.sample(n = k))\n",
    "    for i in range(len(x)):\n",
    "        distance = []\n",
    "        for center in range(len(centers)):\n",
    "            distance.append(euclideanDistance(x.iloc[i],centers[center]))\n",
    "        k_labels.append(np.argmin(distance))\n",
    "    return k_labels\n",
    "\n",
    "def update_center(x,k,k_labels,method):\n",
    "    new_center = []\n",
    "    k_labels = np.array(k_labels)\n",
    "    x = np.array(x)\n",
    "    for i in range(0,k):\n",
    "        x1 = []\n",
    "        x2 = []\n",
    "        cur_cluster = np.where(k_labels == i)[0]\n",
    "        for j in cur_cluster:\n",
    "            x1.append(x[j][0])\n",
    "            x2.append(x[j][1])\n",
    "        if method == \"mean\":    \n",
    "            new_center.append([np.mean(x1),np.mean(x2)])\n",
    "        if method == \"median\":\n",
    "            new_center.append([np.median(x1),np.median(x2)])\n",
    "    return new_center \n",
    "\n",
    "def k_cluster(data,k,method,initial,max_iter):\n",
    "    if initial == \"random seed selection\":\n",
    "        centers = np.array(data.sample(n = k))\n",
    "        k_labels = np.array(assign(data,centers))\n",
    "        \n",
    "    if initial == \"random split\":\n",
    "        k_labels = np.random.randint(k, size=len(data))\n",
    "        centers = update_center(data, k= k, k_labels = k_labels, method = method)\n",
    "    \n",
    "    for i in range(max_iter):\n",
    "        former_center = centers\n",
    "        centers = update_center(data, k= k, k_labels = k_labels, method = method)\n",
    "        k_labels = np.array(assign(data,centers))\n",
    "        if np.array_equal(former_center,centers) and i > 1 :\n",
    "            break\n",
    "            \n",
    "    k_clusters = []\n",
    "    data = np.array(data)\n",
    "    for i in range(k):\n",
    "        kthcluster_label = np.where(k_labels == i)[0]\n",
    "        k_clusters.append(data[kthcluster_label])\n",
    "    \n",
    "    return k_labels, k_clusters"
   ]
  },
  {
   "cell_type": "code",
   "execution_count": 17,
   "id": "931e65f9",
   "metadata": {},
   "outputs": [
    {
     "data": {
      "text/plain": [
       "array([0, 0, 0, 0, 0, 0, 0, 0, 0, 0, 1, 1, 1, 1, 1, 1, 1, 1, 1, 1, 1, 1,\n",
       "       1, 1, 1, 1, 1, 1, 1, 1, 2, 2, 2, 2, 2, 2, 2, 2, 2, 2])"
      ]
     },
     "execution_count": 17,
     "metadata": {},
     "output_type": "execute_result"
    }
   ],
   "source": [
    "result = k_cluster(data, k=3, method=\"mean\", initial = \"random split\", max_iter=100)\n",
    "result"
   ]
  },
  {
   "cell_type": "markdown",
   "id": "62b6bea3",
   "metadata": {},
   "source": [
    "2) (15 points) Silhouette score.\n",
    "In this part of the assignment, you are implementing a function that calculates the Silhouette score for a list of clusters. The function should take in a list of clusters (such as the output of the last function you implemented) and return a single Silhouette score."
   ]
  },
  {
   "cell_type": "code",
   "execution_count": 4,
   "id": "d40aec99",
   "metadata": {},
   "outputs": [],
   "source": [
    "def Silhouette(data, k_labels):\n",
    "    k = len(set(k_labels))\n",
    "    sil = []\n",
    "    data = np.array(data)\n",
    "    for cur_k in range(k): \n",
    "        cur_cluster = np.where(k_labels == cur_k)[0]\n",
    "        other_cluster = np.where(k_labels != cur_k)[0]\n",
    "        for i in cur_cluster:\n",
    "            a = euclideanDistance(data[i],data[cur_cluster])/(len(cur_cluster)-1)\n",
    "            b = euclideanDistance(data[i],data[other_cluster])/len(other_cluster)\n",
    "            sil.append((b-a)/ max(a,b)) \n",
    "    silhouette = np.sum(sil)\n",
    "    return silhouette"
   ]
  },
  {
   "cell_type": "markdown",
   "id": "d196ad18",
   "metadata": {},
   "source": [
    "3) (15 points) Finding best K.\n",
    "Run the code you implemented in question 1 for k=2,3,4,5. Set the other hyperparameters to the following:\n",
    "-The method for calculating the centroid: Mean\n",
    "-The initialization method: Random Split Initialization -Max_iterations: 100\n",
    "Calculate the silhouette score for each K using the function in question 2 and use these scores to pick the best K. What is the best K?"
   ]
  },
  {
   "cell_type": "code",
   "execution_count": 7,
   "id": "ff83a3b2",
   "metadata": {},
   "outputs": [
    {
     "data": {
      "text/plain": [
       "[<matplotlib.lines.Line2D at 0x11e287130>]"
      ]
     },
     "execution_count": 7,
     "metadata": {},
     "output_type": "execute_result"
    },
    {
     "data": {
      "image/png": "[encoded data removed]",
      "text/plain": [
       "<Figure size 432x288 with 1 Axes>"
      ]
     },
     "metadata": {
      "needs_background": "light"
     },
     "output_type": "display_data"
    }
   ],
   "source": [
    "SSE = []\n",
    "for k in range(2,6):\n",
    "    result =  k_cluster(data, k=k, method=\"mean\", initial = \"random split\", max_iter=100)[0]\n",
    "    SSE.append(Silhouette(data,result)) \n",
    "plt.plot(np.arange(2,6),SSE, \"-\")\n",
    "\n"
   ]
  },
  {
   "cell_type": "markdown",
   "id": "8ea88619",
   "metadata": {},
   "source": [
    "**5 is best k value**"
   ]
  },
  {
   "cell_type": "markdown",
   "id": "8be2d922",
   "metadata": {},
   "source": [
    "**Bonus questions:** \n",
    "Don’t be so Naïve!\n",
    "You are given a training dataset in CSV format (hw4_naive.csv). The training data has 5,600 rows:\n",
    "• Columns 1 through 6 of the given CSV file represent the features (X) • The last column (“Label”) represents the class label (Y) (0 or 1)\n",
    "You are required to implement the following models and train/test them using this\n",
    "dataset. Note that you can use sklearn unless the question asks that you implement your code from scratch.\n"
   ]
  },
  {
   "cell_type": "markdown",
   "id": "abe3fa01",
   "metadata": {},
   "source": [
    "1) (5 points) Divide the data into test / train sets (80% and 20% respectively)"
   ]
  },
  {
   "cell_type": "code",
   "execution_count": null,
   "id": "6a3cbcc6",
   "metadata": {},
   "outputs": [],
   "source": [
    "import pandas as pd\n",
    "naive_data = pd.read_csv('hw4_naive.csv')\n",
    "naive_data"
   ]
  },
  {
   "cell_type": "code",
   "execution_count": null,
   "id": "79a91517",
   "metadata": {},
   "outputs": [],
   "source": [
    "from sklearn.model_selection import train_test_split \n",
    "y = weather_data[\"Label\"]\n",
    "x = weather_data.drop(['Label'],1)\n",
    "x.train, x.test, y.train, y.test = train_test_split(x,y,test_size=0.20, random_state=42)"
   ]
  },
  {
   "cell_type": "markdown",
   "id": "1862e4fd",
   "metadata": {},
   "source": [
    "2) (25 points) Implement a Multinomial Naïve Bayes classifier from scratch, with smoothing (you can set the default smoothing value to 1). You are free to code this up however you like, however, make sure that there is a function that can be called with a test X vector and returns the predicted Y."
   ]
  },
  {
   "cell_type": "code",
   "execution_count": null,
   "id": "061c8d4a",
   "metadata": {},
   "outputs": [],
   "source": []
  },
  {
   "cell_type": "markdown",
   "id": "ba95f388",
   "metadata": {},
   "source": [
    "3) (25 points) Implement a Gaussian Naïve Bayes classier from scratch (no need for smoothing here)."
   ]
  },
  {
   "cell_type": "code",
   "execution_count": null,
   "id": "2ac28f47",
   "metadata": {},
   "outputs": [],
   "source": []
  },
  {
   "cell_type": "markdown",
   "id": "122ed98b",
   "metadata": {},
   "source": [
    "4) (10 points) Calculate the accuracy and the F1 score of test data using both of your models implemented above."
   ]
  },
  {
   "cell_type": "code",
   "execution_count": null,
   "id": "bebda5cf",
   "metadata": {},
   "outputs": [],
   "source": []
  }
 ],
 "metadata": {
  "kernelspec": {
   "display_name": "Python 3 (ipykernel)",
   "language": "python",
   "name": "python3"
  },
  "language_info": {
   "codemirror_mode": {
    "name": "ipython",
    "version": 3
   },
   "file_extension": ".py",
   "mimetype": "text/x-python",
   "name": "python",
   "nbconvert_exporter": "python",
   "pygments_lexer": "ipython3",
   "version": "3.9.7"
  }
 },
 "nbformat": 4,
 "nbformat_minor": 5
}
